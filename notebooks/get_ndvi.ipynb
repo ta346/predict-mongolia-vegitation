{
 "cells": [
  {
   "cell_type": "code",
   "execution_count": 2,
   "metadata": {},
   "outputs": [],
   "source": [
    "#standard library imports first\n",
    "import os\n",
    "from glob import glob\n",
    "\n",
    "#commonly used package that are general in purpose\n",
    "import matplotlib.pyplot as plt\n",
    "import numpy as np\n",
    "import pandas as pd\n",
    "\n",
    "# third party packages\n",
    "import ee\n",
    "import geemap\n",
    "import rasterio as rio\n",
    "import geopandas as gpd\n",
    "import earthpy as et\n",
    "import xarray as xr\n",
    "import rioxarray as rxr"
   ]
  },
  {
   "cell_type": "code",
   "execution_count": 4,
   "metadata": {},
   "outputs": [
    {
     "data": {
      "text/plain": [
       "'C:\\\\Users\\\\Owner'"
      ]
     },
     "execution_count": 4,
     "metadata": {},
     "output_type": "execute_result"
    }
   ],
   "source": [
    "home_dir = et.io.HOME\n",
    "gpd.read_file(os.join_path(home_dir, \"Dr\"))"
   ]
  }
 ],
 "metadata": {
  "interpreter": {
   "hash": "487477955ef26f18bc5b89171f029aa2af987924313cdcda2cd0c8d92d49c50c"
  },
  "kernelspec": {
   "display_name": "Python 3.7.12 ('earth-analytics')",
   "language": "python",
   "name": "python3"
  },
  "language_info": {
   "codemirror_mode": {
    "name": "ipython",
    "version": 3
   },
   "file_extension": ".py",
   "mimetype": "text/x-python",
   "name": "python",
   "nbconvert_exporter": "python",
   "pygments_lexer": "ipython3",
   "version": "3.7.12"
  },
  "orig_nbformat": 4
 },
 "nbformat": 4,
 "nbformat_minor": 2
}
