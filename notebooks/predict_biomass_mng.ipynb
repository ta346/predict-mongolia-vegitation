{
 "cells": [
  {
   "cell_type": "code",
   "execution_count": 23,
   "metadata": {},
   "outputs": [],
   "source": [
    "import os\n",
    "import pandas as pd\n",
    "import sys\n",
    "import seaborn as sns\n",
    "\n",
    "base_repo_dir = os.path.abspath(\"../\")\n",
    "sys.path.append(base_repo_dir)"
   ]
  },
  {
   "cell_type": "code",
   "execution_count": 24,
   "metadata": {},
   "outputs": [
    {
     "data": {
      "text/html": [
       "<div>\n",
       "<style scoped>\n",
       "    .dataframe tbody tr th:only-of-type {\n",
       "        vertical-align: middle;\n",
       "    }\n",
       "\n",
       "    .dataframe tbody tr th {\n",
       "        vertical-align: top;\n",
       "    }\n",
       "\n",
       "    .dataframe thead th {\n",
       "        text-align: right;\n",
       "    }\n",
       "</style>\n",
       "<table border=\"1\" class=\"dataframe\">\n",
       "  <thead>\n",
       "    <tr style=\"text-align: right;\">\n",
       "      <th></th>\n",
       "      <th>shp_id</th>\n",
       "      <th>x_coor</th>\n",
       "      <th>y_coor</th>\n",
       "      <th>aimag_eng</th>\n",
       "      <th>soum_eng</th>\n",
       "      <th>soum_length</th>\n",
       "      <th>soum_area</th>\n",
       "      <th>year</th>\n",
       "      <th>asid</th>\n",
       "      <th>ndvi</th>\n",
       "      <th>...</th>\n",
       "      <th>wgr_smr_gdd5</th>\n",
       "      <th>wgr_smr_wd1</th>\n",
       "      <th>wgr_smr_wd2</th>\n",
       "      <th>water.dummy</th>\n",
       "      <th>desert.dummy</th>\n",
       "      <th>desert.steppe.dummy</th>\n",
       "      <th>mountain.dummy</th>\n",
       "      <th>steppe.dummy</th>\n",
       "      <th>forest.steppe.dummy</th>\n",
       "      <th>taiga.dummy</th>\n",
       "    </tr>\n",
       "  </thead>\n",
       "  <tbody>\n",
       "    <tr>\n",
       "      <th>0</th>\n",
       "      <td>262</td>\n",
       "      <td>108.345238</td>\n",
       "      <td>47.824459</td>\n",
       "      <td>Ulaanbaatar</td>\n",
       "      <td>Baganuur</td>\n",
       "      <td>101.081641</td>\n",
       "      <td>636.926215</td>\n",
       "      <td>1971</td>\n",
       "      <td>1101</td>\n",
       "      <td>NaN</td>\n",
       "      <td>...</td>\n",
       "      <td>NaN</td>\n",
       "      <td>NaN</td>\n",
       "      <td>NaN</td>\n",
       "      <td>0.0</td>\n",
       "      <td>0.0</td>\n",
       "      <td>0.0</td>\n",
       "      <td>0.0</td>\n",
       "      <td>0.0</td>\n",
       "      <td>1.0</td>\n",
       "      <td>0.0</td>\n",
       "    </tr>\n",
       "    <tr>\n",
       "      <th>1</th>\n",
       "      <td>262</td>\n",
       "      <td>108.345238</td>\n",
       "      <td>47.824459</td>\n",
       "      <td>Ulaanbaatar</td>\n",
       "      <td>Baganuur</td>\n",
       "      <td>101.081641</td>\n",
       "      <td>636.926215</td>\n",
       "      <td>1972</td>\n",
       "      <td>1101</td>\n",
       "      <td>NaN</td>\n",
       "      <td>...</td>\n",
       "      <td>NaN</td>\n",
       "      <td>NaN</td>\n",
       "      <td>NaN</td>\n",
       "      <td>0.0</td>\n",
       "      <td>0.0</td>\n",
       "      <td>0.0</td>\n",
       "      <td>0.0</td>\n",
       "      <td>0.0</td>\n",
       "      <td>1.0</td>\n",
       "      <td>0.0</td>\n",
       "    </tr>\n",
       "    <tr>\n",
       "      <th>2</th>\n",
       "      <td>262</td>\n",
       "      <td>108.345238</td>\n",
       "      <td>47.824459</td>\n",
       "      <td>Ulaanbaatar</td>\n",
       "      <td>Baganuur</td>\n",
       "      <td>101.081641</td>\n",
       "      <td>636.926215</td>\n",
       "      <td>1973</td>\n",
       "      <td>1101</td>\n",
       "      <td>NaN</td>\n",
       "      <td>...</td>\n",
       "      <td>NaN</td>\n",
       "      <td>NaN</td>\n",
       "      <td>NaN</td>\n",
       "      <td>0.0</td>\n",
       "      <td>0.0</td>\n",
       "      <td>0.0</td>\n",
       "      <td>0.0</td>\n",
       "      <td>0.0</td>\n",
       "      <td>1.0</td>\n",
       "      <td>0.0</td>\n",
       "    </tr>\n",
       "    <tr>\n",
       "      <th>3</th>\n",
       "      <td>262</td>\n",
       "      <td>108.345238</td>\n",
       "      <td>47.824459</td>\n",
       "      <td>Ulaanbaatar</td>\n",
       "      <td>Baganuur</td>\n",
       "      <td>101.081641</td>\n",
       "      <td>636.926215</td>\n",
       "      <td>1974</td>\n",
       "      <td>1101</td>\n",
       "      <td>NaN</td>\n",
       "      <td>...</td>\n",
       "      <td>NaN</td>\n",
       "      <td>NaN</td>\n",
       "      <td>NaN</td>\n",
       "      <td>0.0</td>\n",
       "      <td>0.0</td>\n",
       "      <td>0.0</td>\n",
       "      <td>0.0</td>\n",
       "      <td>0.0</td>\n",
       "      <td>1.0</td>\n",
       "      <td>0.0</td>\n",
       "    </tr>\n",
       "    <tr>\n",
       "      <th>4</th>\n",
       "      <td>262</td>\n",
       "      <td>108.345238</td>\n",
       "      <td>47.824459</td>\n",
       "      <td>Ulaanbaatar</td>\n",
       "      <td>Baganuur</td>\n",
       "      <td>101.081641</td>\n",
       "      <td>636.926215</td>\n",
       "      <td>1975</td>\n",
       "      <td>1101</td>\n",
       "      <td>NaN</td>\n",
       "      <td>...</td>\n",
       "      <td>NaN</td>\n",
       "      <td>NaN</td>\n",
       "      <td>NaN</td>\n",
       "      <td>0.0</td>\n",
       "      <td>0.0</td>\n",
       "      <td>0.0</td>\n",
       "      <td>0.0</td>\n",
       "      <td>0.0</td>\n",
       "      <td>1.0</td>\n",
       "      <td>0.0</td>\n",
       "    </tr>\n",
       "  </tbody>\n",
       "</table>\n",
       "<p>5 rows × 159 columns</p>\n",
       "</div>"
      ],
      "text/plain": [
       "   shp_id      x_coor     y_coor    aimag_eng  soum_eng  soum_length  \\\n",
       "0     262  108.345238  47.824459  Ulaanbaatar  Baganuur   101.081641   \n",
       "1     262  108.345238  47.824459  Ulaanbaatar  Baganuur   101.081641   \n",
       "2     262  108.345238  47.824459  Ulaanbaatar  Baganuur   101.081641   \n",
       "3     262  108.345238  47.824459  Ulaanbaatar  Baganuur   101.081641   \n",
       "4     262  108.345238  47.824459  Ulaanbaatar  Baganuur   101.081641   \n",
       "\n",
       "    soum_area  year  asid  ndvi  ...  wgr_smr_gdd5  wgr_smr_wd1  wgr_smr_wd2  \\\n",
       "0  636.926215  1971  1101   NaN  ...           NaN          NaN          NaN   \n",
       "1  636.926215  1972  1101   NaN  ...           NaN          NaN          NaN   \n",
       "2  636.926215  1973  1101   NaN  ...           NaN          NaN          NaN   \n",
       "3  636.926215  1974  1101   NaN  ...           NaN          NaN          NaN   \n",
       "4  636.926215  1975  1101   NaN  ...           NaN          NaN          NaN   \n",
       "\n",
       "   water.dummy  desert.dummy  desert.steppe.dummy  mountain.dummy  \\\n",
       "0          0.0           0.0                  0.0             0.0   \n",
       "1          0.0           0.0                  0.0             0.0   \n",
       "2          0.0           0.0                  0.0             0.0   \n",
       "3          0.0           0.0                  0.0             0.0   \n",
       "4          0.0           0.0                  0.0             0.0   \n",
       "\n",
       "   steppe.dummy  forest.steppe.dummy  taiga.dummy  \n",
       "0           0.0                  1.0          0.0  \n",
       "1           0.0                  1.0          0.0  \n",
       "2           0.0                  1.0          0.0  \n",
       "3           0.0                  1.0          0.0  \n",
       "4           0.0                  1.0          0.0  \n",
       "\n",
       "[5 rows x 159 columns]"
      ]
     },
     "execution_count": 24,
     "metadata": {},
     "output_type": "execute_result"
    }
   ],
   "source": [
    "df = pd.read_csv(str(base_repo_dir) + \"/data/rangeland_data_wrk.csv\")\n",
    "df.head()"
   ]
  },
  {
   "cell_type": "code",
   "execution_count": 25,
   "metadata": {},
   "outputs": [],
   "source": [
    "train_df = df.dropna(subset = [\"bms\"])\n",
    "test_df = df[df[\"bms\"].isna()]"
   ]
  },
  {
   "cell_type": "code",
   "execution_count": 30,
   "metadata": {},
   "outputs": [
    {
     "data": {
      "text/plain": [
       "<seaborn.axisgrid.FacetGrid at 0x28c9cdf10>"
      ]
     },
     "execution_count": 30,
     "metadata": {},
     "output_type": "execute_result"
    },
    {
     "data": {
      "image/png": "[encoded data removed]",
      "text/plain": [
       "<Figure size 500x500 with 1 Axes>"
      ]
     },
     "metadata": {},
     "output_type": "display_data"
    }
   ],
   "source": [
    "sns.displot(train_df[\"bms\"])"
   ]
  },
  {
   "cell_type": "code",
   "execution_count": 31,
   "metadata": {},
   "outputs": [],
   "source": [
    "def make_bms_class(\n",
    "    row\n",
    "):\n",
    "    if row < 5:\n",
    "        return \"LOW\"\n",
    "    if row > 5 and row < 10:\n",
    "        return \"MEDIUM\"\n",
    "    if row > 10:\n",
    "        return \"HIGH\""
   ]
  },
  {
   "cell_type": "code",
   "execution_count": 33,
   "metadata": {},
   "outputs": [
    {
     "name": "stderr",
     "output_type": "stream",
     "text": [
      "/var/folders/rn/d2868tq11gjbfjp0xwssgqg40000gn/T/ipykernel_72383/878461482.py:1: SettingWithCopyWarning: \n",
      "A value is trying to be set on a copy of a slice from a DataFrame.\n",
      "Try using .loc[row_indexer,col_indexer] = value instead\n",
      "\n",
      "See the caveats in the documentation: https://pandas.pydata.org/pandas-docs/stable/user_guide/indexing.html#returning-a-view-versus-a-copy\n",
      "  train_df[\"bms\"] = train_df.apply(lambda x: make_bms_class(x[\"bms\"]), axis = 1)\n"
     ]
    }
   ],
   "source": [
    "train_df[\"bms\"] = train_df.apply(lambda x: make_bms_class(x[\"bms\"]), axis = 1)"
   ]
  },
  {
   "cell_type": "code",
   "execution_count": 34,
   "metadata": {},
   "outputs": [
    {
     "data": {
      "text/plain": [
       "<seaborn.axisgrid.FacetGrid at 0x28c8f6490>"
      ]
     },
     "execution_count": 34,
     "metadata": {},
     "output_type": "execute_result"
    },
    {
     "data": {
      "image/png": "[encoded data removed]",
      "text/plain": [
       "<Figure size 500x500 with 1 Axes>"
      ]
     },
     "metadata": {},
     "output_type": "display_data"
    }
   ],
   "source": [
    "sns.displot(train_df[\"bms\"])"
   ]
  },
  {
   "cell_type": "markdown",
   "metadata": {},
   "source": [
    "#### Will train on training set\n",
    "#### Will predict on training set\n",
    "#### Will evaluate on training set\n",
    "#### Apply predictions to test set"
   ]
  },
  {
   "cell_type": "code",
   "execution_count": 36,
   "metadata": {},
   "outputs": [],
   "source": [
    "y_train = train_df[\"bms\"]\n",
    "x_train = train_df.drop(columns = [\"bms\"])"
   ]
  },
  {
   "cell_type": "code",
   "execution_count": 38,
   "metadata": {},
   "outputs": [
    {
     "ename": "TypeError",
     "evalue": "'<' not supported between instances of 'NoneType' and 'str'",
     "output_type": "error",
     "traceback": [
      "\u001b[0;31m---------------------------------------------------------------------------\u001b[0m",
      "\u001b[0;31mTypeError\u001b[0m                                 Traceback (most recent call last)",
      "\u001b[1;32m/Users/natanvidra/Workspace/predict-mongolia-vegitation/notebooks/predict_biomass_mng.ipynb Cell 10'\u001b[0m in \u001b[0;36m<cell line: 5>\u001b[0;34m()\u001b[0m\n\u001b[1;32m      <a href='vscode-notebook-cell:/Users/natanvidra/Workspace/predict-mongolia-vegitation/notebooks/predict_biomass_mng.ipynb#ch0000016?line=1'>2</a>\u001b[0m \u001b[39mfrom\u001b[39;00m \u001b[39mxgboost\u001b[39;00m \u001b[39mimport\u001b[39;00m XGBClassifier\n\u001b[1;32m      <a href='vscode-notebook-cell:/Users/natanvidra/Workspace/predict-mongolia-vegitation/notebooks/predict_biomass_mng.ipynb#ch0000016?line=3'>4</a>\u001b[0m model \u001b[39m=\u001b[39m XGBClassifier()\n\u001b[0;32m----> <a href='vscode-notebook-cell:/Users/natanvidra/Workspace/predict-mongolia-vegitation/notebooks/predict_biomass_mng.ipynb#ch0000016?line=4'>5</a>\u001b[0m model\u001b[39m.\u001b[39;49mfit(x_train, y_train)\n",
      "File \u001b[0;32m~/Library/Python/3.8/lib/python/site-packages/xgboost/core.py:532\u001b[0m, in \u001b[0;36m_deprecate_positional_args.<locals>.inner_f\u001b[0;34m(*args, **kwargs)\u001b[0m\n\u001b[1;32m    530\u001b[0m \u001b[39mfor\u001b[39;00m k, arg \u001b[39min\u001b[39;00m \u001b[39mzip\u001b[39m(sig\u001b[39m.\u001b[39mparameters, args):\n\u001b[1;32m    531\u001b[0m     kwargs[k] \u001b[39m=\u001b[39m arg\n\u001b[0;32m--> 532\u001b[0m \u001b[39mreturn\u001b[39;00m f(\u001b[39m*\u001b[39;49m\u001b[39m*\u001b[39;49mkwargs)\n",
      "File \u001b[0;32m~/Library/Python/3.8/lib/python/site-packages/xgboost/sklearn.py:1350\u001b[0m, in \u001b[0;36mXGBClassifier.fit\u001b[0;34m(self, X, y, sample_weight, base_margin, eval_set, eval_metric, early_stopping_rounds, verbose, xgb_model, sample_weight_eval_set, base_margin_eval_set, feature_weights, callbacks)\u001b[0m\n\u001b[1;32m   1348\u001b[0m     expected_classes \u001b[39m=\u001b[39m cp\u001b[39m.\u001b[39marange(\u001b[39mself\u001b[39m\u001b[39m.\u001b[39mn_classes_)\n\u001b[1;32m   1349\u001b[0m \u001b[39melse\u001b[39;00m:\n\u001b[0;32m-> 1350\u001b[0m     \u001b[39mself\u001b[39m\u001b[39m.\u001b[39mclasses_ \u001b[39m=\u001b[39m np\u001b[39m.\u001b[39;49munique(np\u001b[39m.\u001b[39;49masarray(y))\n\u001b[1;32m   1351\u001b[0m     \u001b[39mself\u001b[39m\u001b[39m.\u001b[39mn_classes_ \u001b[39m=\u001b[39m \u001b[39mlen\u001b[39m(\u001b[39mself\u001b[39m\u001b[39m.\u001b[39mclasses_)\n\u001b[1;32m   1352\u001b[0m     expected_classes \u001b[39m=\u001b[39m np\u001b[39m.\u001b[39marange(\u001b[39mself\u001b[39m\u001b[39m.\u001b[39mn_classes_)\n",
      "File \u001b[0;32m<__array_function__ internals>:180\u001b[0m, in \u001b[0;36munique\u001b[0;34m(*args, **kwargs)\u001b[0m\n",
      "File \u001b[0;32m~/Library/Python/3.8/lib/python/site-packages/numpy/lib/arraysetops.py:272\u001b[0m, in \u001b[0;36munique\u001b[0;34m(ar, return_index, return_inverse, return_counts, axis)\u001b[0m\n\u001b[1;32m    270\u001b[0m ar \u001b[39m=\u001b[39m np\u001b[39m.\u001b[39masanyarray(ar)\n\u001b[1;32m    271\u001b[0m \u001b[39mif\u001b[39;00m axis \u001b[39mis\u001b[39;00m \u001b[39mNone\u001b[39;00m:\n\u001b[0;32m--> 272\u001b[0m     ret \u001b[39m=\u001b[39m _unique1d(ar, return_index, return_inverse, return_counts)\n\u001b[1;32m    273\u001b[0m     \u001b[39mreturn\u001b[39;00m _unpack_tuple(ret)\n\u001b[1;32m    275\u001b[0m \u001b[39m# axis was specified and not None\u001b[39;00m\n",
      "File \u001b[0;32m~/Library/Python/3.8/lib/python/site-packages/numpy/lib/arraysetops.py:333\u001b[0m, in \u001b[0;36m_unique1d\u001b[0;34m(ar, return_index, return_inverse, return_counts)\u001b[0m\n\u001b[1;32m    331\u001b[0m     aux \u001b[39m=\u001b[39m ar[perm]\n\u001b[1;32m    332\u001b[0m \u001b[39melse\u001b[39;00m:\n\u001b[0;32m--> 333\u001b[0m     ar\u001b[39m.\u001b[39;49msort()\n\u001b[1;32m    334\u001b[0m     aux \u001b[39m=\u001b[39m ar\n\u001b[1;32m    335\u001b[0m mask \u001b[39m=\u001b[39m np\u001b[39m.\u001b[39mempty(aux\u001b[39m.\u001b[39mshape, dtype\u001b[39m=\u001b[39mnp\u001b[39m.\u001b[39mbool_)\n",
      "\u001b[0;31mTypeError\u001b[0m: '<' not supported between instances of 'NoneType' and 'str'"
     ]
    }
   ],
   "source": [
    "import xgboost\n",
    "from xgboost import XGBClassifier\n",
    "\n",
    "model = XGBClassifier()\n",
    "model.fit(x_train, y_train)"
   ]
  }
 ],
 "metadata": {
  "kernelspec": {
   "display_name": "Python 3.8.9 64-bit",
   "language": "python",
   "name": "python3"
  },
  "language_info": {
   "codemirror_mode": {
    "name": "ipython",
    "version": 3
   },
   "file_extension": ".py",
   "mimetype": "text/x-python",
   "name": "python",
   "nbconvert_exporter": "python",
   "pygments_lexer": "ipython3",
   "version": "3.8.9"
  },
  "orig_nbformat": 4,
  "vscode": {
   "interpreter": {
    "hash": "31f2aee4e71d21fbe5cf8b01ff0e069b9275f58929596ceb00d14d90e3e16cd6"
   }
  }
 },
 "nbformat": 4,
 "nbformat_minor": 2
}
